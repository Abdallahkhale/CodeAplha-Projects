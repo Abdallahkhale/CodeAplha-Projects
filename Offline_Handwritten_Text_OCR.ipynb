{
  "metadata": {
    "kernelspec": {
      "language": "python",
      "display_name": "Python 3",
      "name": "python3"
    },
    "language_info": {
      "name": "python",
      "version": "3.7.6",
      "mimetype": "text/x-python",
      "codemirror_mode": {
        "name": "ipython",
        "version": 3
      },
      "pygments_lexer": "ipython3",
      "nbconvert_exporter": "python",
      "file_extension": ".py"
    },
    "kaggle": {
      "accelerator": "gpu",
      "dataSources": [
        {
          "sourceId": 101598,
          "sourceType": "datasetVersion",
          "datasetId": 53376
        },
        {
          "sourceId": 1400106,
          "sourceType": "datasetVersion",
          "datasetId": 818027
        }
      ],
      "dockerImageVersionId": 30043,
      "isInternetEnabled": true,
      "language": "python",
      "sourceType": "notebook",
      "isGpuEnabled": true
    },
    "colab": {
      "name": "Offline Handwritten Text OCR",
      "provenance": []
    }
  },
  "nbformat_minor": 0,
  "nbformat": 4,
  "cells": [
    {
      "source": [
        "\n",
        "\n",
        "import os\n",
        "import sys\n",
        "from tempfile import NamedTemporaryFile\n",
        "from urllib.request import urlopen\n",
        "from urllib.parse import unquote, urlparse\n",
        "from urllib.error import HTTPError\n",
        "from zipfile import ZipFile\n",
        "import tarfile\n",
        "import shutil\n",
        "\n",
        "CHUNK_SIZE = 40960\n",
        "DATA_SOURCE_MAPPING = 'handwritten-characters:https%3A%2F%2Fstorage.googleapis.com%2Fkaggle-data-sets%2F53376%2F101598%2Fbundle%2Farchive.zip%3FX-Goog-Algorithm%3DGOOG4-RSA-SHA256%26X-Goog-Credential%3Dgcp-kaggle-com%2540kaggle-161607.iam.gserviceaccount.com%252F20240326%252Fauto%252Fstorage%252Fgoog4_request%26X-Goog-Date%3D20240326T211934Z%26X-Goog-Expires%3D259200%26X-Goog-SignedHeaders%3Dhost%26X-Goog-Signature%3D52bd2773ecbd9987ebac598ac3985533cae1be8c79176afb467e056f74de39ebaa107f1ac5e5e45d1bd70d2fd4c4d0b4df19b3a2956bd50d82dcbeec4bc9330d382c3f28e83cc1787ffc948ed27a42424c64e897dfa0902a56fe967eead80c9738ce8799cea3fb98d4b92e69825f77d736d0669be9146aac131d166688b512a2926c526b127abf40849fa2181a7fc6e3fff26c80de20acaeeb8cc037c433bdbdca9354d91eb149cacf8cc81aedf282bfea987934dcbca573504c1f896c86fec041232b8cee0149b5e52251618f63bb4782660af57ab093ef2066970cb00572172dd10c410150263c9e5e72350e287a9f5d3455bdcae544198e9461e7eec89658,handwriting-recognition:https%3A%2F%2Fstorage.googleapis.com%2Fkaggle-data-sets%2F818027%2F1400106%2Fbundle%2Farchive.zip%3FX-Goog-Algorithm%3DGOOG4-RSA-SHA256%26X-Goog-Credential%3Dgcp-kaggle-com%2540kaggle-161607.iam.gserviceaccount.com%252F20240326%252Fauto%252Fstorage%252Fgoog4_request%26X-Goog-Date%3D20240326T211934Z%26X-Goog-Expires%3D259200%26X-Goog-SignedHeaders%3Dhost%26X-Goog-Signature%3D44a6a15d330bc1a69d4cc9c9e043cdd6ee032f55b13f451cc2e4314c3e817c485a833dea81f2908d6d5254f9acfa835d146c987eb54e8ad79c60519e7793f8e835ce4b7c55b7766eee10c3c0b2636d87ee23ffcac58d9cd201ab2fbf5383c57aad338100f5fa2c082df2d7f4425f439f1926cfb27afdc9ee3ab6238ddcc09239af919c9ad64211836556a6ef964241a68ca68b12498036e9aad6bd9c0788c277de786f099aa3df26b3e544d219b0333e729c03399afafcf25cb799efe7676105cffb860cff27adb36fdcab95d5a82a7d3c32576efa16b2c34c54f6fb1fa675133a4daab3db54dc040883809dee98bf8c484897e2821039bcdaa27ef9df5e8642'\n",
        "\n",
        "KAGGLE_INPUT_PATH='/kaggle/input'\n",
        "KAGGLE_WORKING_PATH='/kaggle/working'\n",
        "KAGGLE_SYMLINK='kaggle'\n",
        "\n",
        "!umount /kaggle/input/ 2> /dev/null\n",
        "shutil.rmtree('/kaggle/input', ignore_errors=True)\n",
        "os.makedirs(KAGGLE_INPUT_PATH, 0o777, exist_ok=True)\n",
        "os.makedirs(KAGGLE_WORKING_PATH, 0o777, exist_ok=True)\n",
        "\n",
        "try:\n",
        "  os.symlink(KAGGLE_INPUT_PATH, os.path.join(\"..\", 'input'), target_is_directory=True)\n",
        "except FileExistsError:\n",
        "  pass\n",
        "try:\n",
        "  os.symlink(KAGGLE_WORKING_PATH, os.path.join(\"..\", 'working'), target_is_directory=True)\n",
        "except FileExistsError:\n",
        "  pass\n",
        "\n",
        "for data_source_mapping in DATA_SOURCE_MAPPING.split(','):\n",
        "    directory, download_url_encoded = data_source_mapping.split(':')\n",
        "    download_url = unquote(download_url_encoded)\n",
        "    filename = urlparse(download_url).path\n",
        "    destination_path = os.path.join(KAGGLE_INPUT_PATH, directory)\n",
        "    try:\n",
        "        with urlopen(download_url) as fileres, NamedTemporaryFile() as tfile:\n",
        "            total_length = fileres.headers['content-length']\n",
        "            print(f'Downloading {directory}, {total_length} bytes compressed')\n",
        "            dl = 0\n",
        "            data = fileres.read(CHUNK_SIZE)\n",
        "            while len(data) > 0:\n",
        "                dl += len(data)\n",
        "                tfile.write(data)\n",
        "                done = int(50 * dl / int(total_length))\n",
        "                sys.stdout.write(f\"\\r[{'=' * done}{' ' * (50-done)}] {dl} bytes downloaded\")\n",
        "                sys.stdout.flush()\n",
        "                data = fileres.read(CHUNK_SIZE)\n",
        "            if filename.endswith('.zip'):\n",
        "              with ZipFile(tfile) as zfile:\n",
        "                zfile.extractall(destination_path)\n",
        "            else:\n",
        "              with tarfile.open(tfile.name) as tarfile:\n",
        "                tarfile.extractall(destination_path)\n",
        "            print(f'\\nDownloaded and uncompressed: {directory}')\n",
        "    except HTTPError as e:\n",
        "        print(f'Failed to load (likely expired) {download_url} to path {destination_path}')\n",
        "        continue\n",
        "    except OSError as e:\n",
        "        print(f'Failed to load {download_url} to path {destination_path}')\n",
        "        continue\n",
        "\n",
        "print('Data source import complete.')\n"
      ],
      "metadata": {
        "id": "9b4Y9HS-ogu9",
        "outputId": "e4d3dd8b-3af3-492a-dd00-ee135bee71be",
        "colab": {
          "base_uri": "https://localhost:8080/"
        }
      },
      "cell_type": "code",
      "outputs": [
        {
          "metadata": {
            "tags": null
          },
          "name": "stdout",
          "output_type": "stream",
          "text": [
            "Downloading handwritten-characters, 1740501298 bytes compressed\n",
            "[==================================================] 1740501298 bytes downloaded\n",
            "Downloaded and uncompressed: handwritten-characters\n",
            "Downloading handwriting-recognition, 1353071625 bytes compressed\n",
            "[==================================================] 1353071625 bytes downloaded\n",
            "Downloaded and uncompressed: handwriting-recognition\n",
            "Data source import complete.\n"
          ]
        }
      ],
      "execution_count": 16
    },
    {
      "cell_type": "code",
      "source": [
        "from tensorflow.keras.models import load_model"
      ],
      "metadata": {
        "execution": {
          "iopub.status.busy": "2024-02-26T11:09:38.039448Z",
          "iopub.execute_input": "2024-02-26T11:09:38.039821Z",
          "iopub.status.idle": "2024-02-26T11:09:42.892302Z",
          "shell.execute_reply.started": "2024-02-26T11:09:38.039782Z",
          "shell.execute_reply": "2024-02-26T11:09:42.89133Z"
        },
        "trusted": true,
        "id": "wqWcyCT5ogvC"
      },
      "execution_count": 17,
      "outputs": []
    },
    {
      "cell_type": "markdown",
      "source": [
        "## Approach\n",
        "\n",
        "* **Step1** :  Build a digit(0-9) + A-Z characters classifier using a CNN architecture.\n",
        "* **Step2** :  Apply character segmentation for the handwritten word image.\n",
        "* **Step3** :  Classify each segmented letter and then get the final word in the image."
      ],
      "metadata": {
        "id": "s4IBfdG8ogvG"
      }
    },
    {
      "cell_type": "code",
      "source": [
        "!pip install imutils"
      ],
      "metadata": {
        "execution": {
          "iopub.status.busy": "2024-02-15T21:05:09.055034Z",
          "iopub.execute_input": "2024-02-15T21:05:09.055328Z",
          "iopub.status.idle": "2024-02-15T21:05:19.509834Z",
          "shell.execute_reply.started": "2024-02-15T21:05:09.055301Z",
          "shell.execute_reply": "2024-02-15T21:05:19.508735Z"
        },
        "trusted": true,
        "id": "_3AA_8ZfogvH",
        "outputId": "ee1fd189-ec72-463b-9c98-3090caf1a8f0",
        "colab": {
          "base_uri": "https://localhost:8080/"
        }
      },
      "execution_count": 18,
      "outputs": [
        {
          "metadata": {
            "tags": null
          },
          "name": "stdout",
          "output_type": "stream",
          "text": [
            "Requirement already satisfied: imutils in /usr/local/lib/python3.10/dist-packages (0.5.4)\n"
          ]
        }
      ]
    },
    {
      "cell_type": "code",
      "source": [
        "!pip install keras_utils"
      ],
      "metadata": {
        "id": "6CZyp9rptnKh",
        "outputId": "ab33860b-920a-468d-9ebb-0b41891b5060",
        "colab": {
          "base_uri": "https://localhost:8080/"
        }
      },
      "execution_count": 19,
      "outputs": [
        {
          "metadata": {
            "tags": null
          },
          "name": "stdout",
          "output_type": "stream",
          "text": [
            "Requirement already satisfied: keras_utils in /usr/local/lib/python3.10/dist-packages (1.0.13)\n",
            "Requirement already satisfied: Keras>=2.1.5 in /usr/local/lib/python3.10/dist-packages (from keras_utils) (2.15.0)\n"
          ]
        }
      ]
    },
    {
      "cell_type": "code",
      "source": [
        "import numpy as np\n",
        "import pandas as pd\n",
        "from keras.preprocessing.image import ImageDataGenerator\n",
        "import os\n",
        "import random\n",
        "import cv2\n",
        "import imutils\n",
        "import random\n",
        "import matplotlib.pyplot as plt\n",
        "import seaborn as sns\n",
        "from sklearn.preprocessing import LabelBinarizer\n",
        "#from keras_utils import np_utils\n",
        "from keras.models import Sequential\n",
        "from keras import optimizers\n",
        "from sklearn.preprocessing import LabelBinarizer\n",
        "from keras import backend as K\n",
        "from keras.layers import Dense, Activation, Flatten, Dense,MaxPooling2D, Dropout\n",
        "from keras.layers import Conv2D, MaxPooling2D, BatchNormalization"
      ],
      "metadata": {
        "_uuid": "d629ff2d2480ee46fbb7e2d37f6b5fab8052498a",
        "_cell_guid": "79c7e3d0-c299-4dcb-8224-4455121ee9b0",
        "execution": {
          "iopub.status.busy": "2024-02-15T21:05:19.511707Z",
          "iopub.execute_input": "2024-02-15T21:05:19.512002Z",
          "iopub.status.idle": "2024-02-15T21:05:25.06281Z",
          "shell.execute_reply.started": "2024-02-15T21:05:19.51197Z",
          "shell.execute_reply": "2024-02-15T21:05:25.06209Z"
        },
        "trusted": true,
        "id": "Samu9hMsogvI"
      },
      "execution_count": 20,
      "outputs": []
    },
    {
      "cell_type": "code",
      "source": [
        "dir = \"../input/handwritten-characters/Train/\"\n",
        "train_data = []\n",
        "img_size = 32\n",
        "non_chars = [\"#\",\"$\",\"&\",\"@\"]\n",
        "for i in os.listdir(dir):\n",
        "    if i in non_chars:\n",
        "        continue\n",
        "    count = 0\n",
        "    sub_directory = os.path.join(dir,i)\n",
        "    for j in os.listdir(sub_directory):\n",
        "        count+=1\n",
        "        if count > 4000:\n",
        "            break\n",
        "        img = cv2.imread(os.path.join(sub_directory,j),0)\n",
        "        img = cv2.resize(img,(img_size,img_size))\n",
        "        train_data.append([img,i])"
      ],
      "metadata": {
        "execution": {
          "iopub.status.busy": "2024-02-15T21:05:25.066417Z",
          "iopub.execute_input": "2024-02-15T21:05:25.066716Z",
          "iopub.status.idle": "2024-02-15T21:26:10.155112Z",
          "shell.execute_reply.started": "2024-02-15T21:05:25.066663Z",
          "shell.execute_reply": "2024-02-15T21:26:10.154306Z"
        },
        "trusted": true,
        "id": "PJky_O0jogvI"
      },
      "execution_count": 21,
      "outputs": []
    },
    {
      "cell_type": "code",
      "source": [
        "len(train_data)"
      ],
      "metadata": {
        "execution": {
          "iopub.status.busy": "2024-02-15T21:26:10.15656Z",
          "iopub.execute_input": "2024-02-15T21:26:10.156922Z",
          "iopub.status.idle": "2024-02-15T21:26:10.163554Z",
          "shell.execute_reply.started": "2024-02-15T21:26:10.156891Z",
          "shell.execute_reply": "2024-02-15T21:26:10.162699Z"
        },
        "trusted": true,
        "id": "Z5rDW7PQogvJ",
        "outputId": "1d0589b3-7856-488d-c9d2-06fcfe1e9891",
        "colab": {
          "base_uri": "https://localhost:8080/"
        }
      },
      "execution_count": 22,
      "outputs": [
        {
          "output_type": "execute_result",
          "data": {
            "text/plain": [
              "140000"
            ]
          },
          "metadata": {},
          "execution_count": 22
        }
      ]
    },
    {
      "cell_type": "code",
      "source": [
        "val_dir = \"../input/handwritten-characters/Validation/\"\n",
        "val_data = []\n",
        "img_size = 32\n",
        "for i in os.listdir(val_dir):\n",
        "    if i in non_chars:\n",
        "        continue\n",
        "    count = 0\n",
        "    sub_directory = os.path.join(val_dir,i)\n",
        "    for j in os.listdir(sub_directory):\n",
        "        count+=1\n",
        "        if count > 1000:\n",
        "            break\n",
        "        img = cv2.imread(os.path.join(sub_directory,j),0)\n",
        "        img = cv2.resize(img,(img_size,img_size))\n",
        "        val_data.append([img,i])"
      ],
      "metadata": {
        "execution": {
          "iopub.status.busy": "2024-02-15T21:26:10.167202Z",
          "iopub.execute_input": "2024-02-15T21:26:10.16757Z",
          "iopub.status.idle": "2024-02-15T21:28:06.897344Z",
          "shell.execute_reply.started": "2024-02-15T21:26:10.167532Z",
          "shell.execute_reply": "2024-02-15T21:28:06.896326Z"
        },
        "trusted": true,
        "id": "Tw1Gz8_zogvJ"
      },
      "execution_count": 23,
      "outputs": []
    },
    {
      "cell_type": "code",
      "source": [
        "len(val_data)"
      ],
      "metadata": {
        "execution": {
          "iopub.status.busy": "2024-02-15T21:28:06.899922Z",
          "iopub.execute_input": "2024-02-15T21:28:06.900222Z",
          "iopub.status.idle": "2024-02-15T21:28:06.905012Z",
          "shell.execute_reply.started": "2024-02-15T21:28:06.900194Z",
          "shell.execute_reply": "2024-02-15T21:28:06.904308Z"
        },
        "trusted": true,
        "id": "FAx4500eogvK",
        "outputId": "1ed01066-d07a-4931-ae65-d5e4ef0e870c",
        "colab": {
          "base_uri": "https://localhost:8080/"
        }
      },
      "execution_count": 24,
      "outputs": [
        {
          "output_type": "execute_result",
          "data": {
            "text/plain": [
              "15209"
            ]
          },
          "metadata": {},
          "execution_count": 24
        }
      ]
    },
    {
      "cell_type": "code",
      "source": [
        "random.shuffle(train_data)\n",
        "random.shuffle(val_data)"
      ],
      "metadata": {
        "execution": {
          "iopub.status.busy": "2024-02-15T21:28:06.906243Z",
          "iopub.execute_input": "2024-02-15T21:28:06.906508Z",
          "iopub.status.idle": "2024-02-15T21:28:07.111055Z",
          "shell.execute_reply.started": "2024-02-15T21:28:06.906482Z",
          "shell.execute_reply": "2024-02-15T21:28:07.110248Z"
        },
        "trusted": true,
        "id": "YMBbZYHRogvK"
      },
      "execution_count": 25,
      "outputs": []
    },
    {
      "cell_type": "code",
      "source": [
        "train_X = []\n",
        "train_Y = []\n",
        "for features,label in train_data:\n",
        "    train_X.append(features)\n",
        "    train_Y.append(label)"
      ],
      "metadata": {
        "execution": {
          "iopub.status.busy": "2024-02-15T21:28:07.112519Z",
          "iopub.execute_input": "2024-02-15T21:28:07.112836Z",
          "iopub.status.idle": "2024-02-15T21:28:07.19066Z",
          "shell.execute_reply.started": "2024-02-15T21:28:07.112796Z",
          "shell.execute_reply": "2024-02-15T21:28:07.189895Z"
        },
        "trusted": true,
        "id": "tDIwKwNCogvL"
      },
      "execution_count": 26,
      "outputs": []
    },
    {
      "cell_type": "code",
      "source": [
        "val_X = []\n",
        "val_Y = []\n",
        "for features,label in val_data:\n",
        "    val_X.append(features)\n",
        "    val_Y.append(label)"
      ],
      "metadata": {
        "execution": {
          "iopub.status.busy": "2024-02-15T21:28:07.191807Z",
          "iopub.execute_input": "2024-02-15T21:28:07.19209Z",
          "iopub.status.idle": "2024-02-15T21:28:07.204322Z",
          "shell.execute_reply.started": "2024-02-15T21:28:07.192063Z",
          "shell.execute_reply": "2024-02-15T21:28:07.203593Z"
        },
        "trusted": true,
        "id": "bkmk2mICogvM"
      },
      "execution_count": 27,
      "outputs": []
    },
    {
      "cell_type": "code",
      "source": [
        "LB = LabelBinarizer()\n",
        "train_Y = LB.fit_transform(train_Y)\n",
        "val_Y = LB.fit_transform(val_Y)"
      ],
      "metadata": {
        "execution": {
          "iopub.status.busy": "2024-02-15T21:28:07.205655Z",
          "iopub.execute_input": "2024-02-15T21:28:07.205957Z",
          "iopub.status.idle": "2024-02-15T21:28:07.618775Z",
          "shell.execute_reply.started": "2024-02-15T21:28:07.205929Z",
          "shell.execute_reply": "2024-02-15T21:28:07.617794Z"
        },
        "trusted": true,
        "id": "xl6gqm2UogvN"
      },
      "execution_count": 28,
      "outputs": []
    },
    {
      "cell_type": "code",
      "source": [
        "train_X = np.array(train_X)/255.0\n",
        "train_X = train_X.reshape(-1,32,32,1)\n",
        "train_Y = np.array(train_Y)"
      ],
      "metadata": {
        "execution": {
          "iopub.status.busy": "2024-02-15T21:28:07.620166Z",
          "iopub.execute_input": "2024-02-15T21:28:07.620498Z",
          "iopub.status.idle": "2024-02-15T21:28:08.213662Z",
          "shell.execute_reply.started": "2024-02-15T21:28:07.620465Z",
          "shell.execute_reply": "2024-02-15T21:28:08.212875Z"
        },
        "trusted": true,
        "id": "AiGox6jUogvO"
      },
      "execution_count": 29,
      "outputs": []
    },
    {
      "cell_type": "code",
      "source": [
        "val_X = np.array(val_X)/255.0\n",
        "val_X = val_X.reshape(-1,32,32,1)\n",
        "val_Y = np.array(val_Y)"
      ],
      "metadata": {
        "execution": {
          "iopub.status.busy": "2024-02-15T21:28:08.214784Z",
          "iopub.execute_input": "2024-02-15T21:28:08.215067Z",
          "iopub.status.idle": "2024-02-15T21:28:08.280804Z",
          "shell.execute_reply.started": "2024-02-15T21:28:08.215037Z",
          "shell.execute_reply": "2024-02-15T21:28:08.279944Z"
        },
        "trusted": true,
        "id": "vA7Ub9GcogvO"
      },
      "execution_count": 30,
      "outputs": []
    },
    {
      "cell_type": "code",
      "source": [
        "print(train_X.shape,val_X.shape)"
      ],
      "metadata": {
        "execution": {
          "iopub.status.busy": "2024-02-15T21:28:08.282104Z",
          "iopub.execute_input": "2024-02-15T21:28:08.282409Z",
          "iopub.status.idle": "2024-02-15T21:28:08.287034Z",
          "shell.execute_reply.started": "2024-02-15T21:28:08.28238Z",
          "shell.execute_reply": "2024-02-15T21:28:08.286128Z"
        },
        "trusted": true,
        "id": "AyeaBlawogvO",
        "outputId": "824b67b3-61a9-486a-f93b-e535af06c864",
        "colab": {
          "base_uri": "https://localhost:8080/"
        }
      },
      "execution_count": 31,
      "outputs": [
        {
          "output_type": "stream",
          "name": "stdout",
          "text": [
            "(140000, 32, 32, 1) (15209, 32, 32, 1)\n"
          ]
        }
      ]
    },
    {
      "cell_type": "code",
      "source": [
        "print(train_Y.shape,val_Y.shape)"
      ],
      "metadata": {
        "execution": {
          "iopub.status.busy": "2024-02-15T21:28:08.288159Z",
          "iopub.execute_input": "2024-02-15T21:28:08.288452Z",
          "iopub.status.idle": "2024-02-15T21:28:08.296979Z",
          "shell.execute_reply.started": "2024-02-15T21:28:08.288423Z",
          "shell.execute_reply": "2024-02-15T21:28:08.296147Z"
        },
        "trusted": true,
        "id": "SMBEB-HzogvP",
        "outputId": "992ae029-6049-4ce5-f1d1-4acd398783f5",
        "colab": {
          "base_uri": "https://localhost:8080/"
        }
      },
      "execution_count": 32,
      "outputs": [
        {
          "output_type": "stream",
          "name": "stdout",
          "text": [
            "(140000, 35) (15209, 35)\n"
          ]
        }
      ]
    },
    {
      "cell_type": "code",
      "source": [
        "model = Sequential()\n",
        "\n",
        "model.add(Conv2D(32, (3, 3), padding = \"same\", activation='relu', input_shape=(32,32,1)))\n",
        "model.add(MaxPooling2D(pool_size=(2,2)))\n",
        "model.add(Conv2D(64, (3, 3), activation='relu'))\n",
        "model.add(MaxPooling2D(pool_size=(2,2)))\n",
        "model.add(Conv2D(128, (3, 3), activation='relu'))\n",
        "model.add(MaxPooling2D(pool_size=(2,2)))\n",
        "model.add(Dropout(0.25))\n",
        "\n",
        "model.add(Flatten())\n",
        "model.add(Dense(128, activation='relu'))\n",
        "model.add(Dropout(0.2))\n",
        "model.add(Dense(35, activation='softmax'))"
      ],
      "metadata": {
        "execution": {
          "iopub.status.busy": "2024-02-15T21:28:08.298471Z",
          "iopub.execute_input": "2024-02-15T21:28:08.298856Z",
          "iopub.status.idle": "2024-02-15T21:28:10.663471Z",
          "shell.execute_reply.started": "2024-02-15T21:28:08.29882Z",
          "shell.execute_reply": "2024-02-15T21:28:10.662762Z"
        },
        "trusted": true,
        "id": "FsV0HaqhogvP"
      },
      "execution_count": 33,
      "outputs": []
    },
    {
      "cell_type": "code",
      "source": [
        "model.summary()"
      ],
      "metadata": {
        "execution": {
          "iopub.status.busy": "2024-02-15T21:28:10.664744Z",
          "iopub.execute_input": "2024-02-15T21:28:10.665031Z",
          "iopub.status.idle": "2024-02-15T21:28:10.673148Z",
          "shell.execute_reply.started": "2024-02-15T21:28:10.665002Z",
          "shell.execute_reply": "2024-02-15T21:28:10.672261Z"
        },
        "trusted": true,
        "id": "0iCtRBpoogvP",
        "outputId": "707bc47e-9fe6-445b-af9c-359dd868b889",
        "colab": {
          "base_uri": "https://localhost:8080/"
        }
      },
      "execution_count": 34,
      "outputs": [
        {
          "output_type": "stream",
          "name": "stdout",
          "text": [
            "Model: \"sequential\"\n",
            "_________________________________________________________________\n",
            " Layer (type)                Output Shape              Param #   \n",
            "=================================================================\n",
            " conv2d (Conv2D)             (None, 32, 32, 32)        320       \n",
            "                                                                 \n",
            " max_pooling2d (MaxPooling2  (None, 16, 16, 32)        0         \n",
            " D)                                                              \n",
            "                                                                 \n",
            " conv2d_1 (Conv2D)           (None, 14, 14, 64)        18496     \n",
            "                                                                 \n",
            " max_pooling2d_1 (MaxPoolin  (None, 7, 7, 64)          0         \n",
            " g2D)                                                            \n",
            "                                                                 \n",
            " conv2d_2 (Conv2D)           (None, 5, 5, 128)         73856     \n",
            "                                                                 \n",
            " max_pooling2d_2 (MaxPoolin  (None, 2, 2, 128)         0         \n",
            " g2D)                                                            \n",
            "                                                                 \n",
            " dropout (Dropout)           (None, 2, 2, 128)         0         \n",
            "                                                                 \n",
            " flatten (Flatten)           (None, 512)               0         \n",
            "                                                                 \n",
            " dense (Dense)               (None, 128)               65664     \n",
            "                                                                 \n",
            " dropout_1 (Dropout)         (None, 128)               0         \n",
            "                                                                 \n",
            " dense_1 (Dense)             (None, 35)                4515      \n",
            "                                                                 \n",
            "=================================================================\n",
            "Total params: 162851 (636.14 KB)\n",
            "Trainable params: 162851 (636.14 KB)\n",
            "Non-trainable params: 0 (0.00 Byte)\n",
            "_________________________________________________________________\n"
          ]
        }
      ]
    },
    {
      "cell_type": "code",
      "source": [
        "model.compile(loss='categorical_crossentropy', optimizer=\"adam\",metrics=['accuracy'])"
      ],
      "metadata": {
        "execution": {
          "iopub.status.busy": "2024-02-15T21:28:10.674148Z",
          "iopub.execute_input": "2024-02-15T21:28:10.674417Z",
          "iopub.status.idle": "2024-02-15T21:28:10.692799Z",
          "shell.execute_reply.started": "2024-02-15T21:28:10.674392Z",
          "shell.execute_reply": "2024-02-15T21:28:10.692058Z"
        },
        "trusted": true,
        "id": "xTXff4eRogvP"
      },
      "execution_count": 35,
      "outputs": []
    },
    {
      "cell_type": "code",
      "source": [
        "history = model.fit(train_X,train_Y, epochs=5, batch_size=32, validation_data = (val_X, val_Y),  verbose=1)"
      ],
      "metadata": {
        "execution": {
          "iopub.status.busy": "2024-02-15T21:28:10.694088Z",
          "iopub.execute_input": "2024-02-15T21:28:10.694346Z",
          "iopub.status.idle": "2024-02-15T21:38:17.692146Z",
          "shell.execute_reply.started": "2024-02-15T21:28:10.694322Z",
          "shell.execute_reply": "2024-02-15T21:38:17.691332Z"
        },
        "trusted": true,
        "id": "72pf1hppogvP",
        "outputId": "3b705679-f44b-454a-928b-9bf17852a2c0",
        "colab": {
          "base_uri": "https://localhost:8080/"
        }
      },
      "execution_count": 37,
      "outputs": [
        {
          "output_type": "stream",
          "name": "stdout",
          "text": [
            "Epoch 1/5\n",
            "4375/4375 [==============================] - 260s 59ms/step - loss: 0.2391 - accuracy: 0.9152 - val_loss: 0.2146 - val_accuracy: 0.9233\n",
            "Epoch 2/5\n",
            "4375/4375 [==============================] - 229s 52ms/step - loss: 0.2296 - accuracy: 0.9182 - val_loss: 0.2572 - val_accuracy: 0.9098\n",
            "Epoch 3/5\n",
            "4375/4375 [==============================] - 223s 51ms/step - loss: 0.2223 - accuracy: 0.9207 - val_loss: 0.2181 - val_accuracy: 0.9237\n",
            "Epoch 4/5\n",
            "4375/4375 [==============================] - 222s 51ms/step - loss: 0.2166 - accuracy: 0.9223 - val_loss: 0.2336 - val_accuracy: 0.9158\n",
            "Epoch 5/5\n",
            "4375/4375 [==============================] - 234s 53ms/step - loss: 0.2093 - accuracy: 0.9244 - val_loss: 0.2261 - val_accuracy: 0.9232\n"
          ]
        }
      ]
    },
    {
      "cell_type": "code",
      "source": [
        "model.save('handwritten.h5')"
      ],
      "metadata": {
        "id": "77XXhjU2ogvQ",
        "outputId": "c3c39aa5-de2c-4743-ebf5-81a9d1552b3c",
        "colab": {
          "base_uri": "https://localhost:8080/"
        }
      },
      "execution_count": 38,
      "outputs": [
        {
          "output_type": "stream",
          "name": "stderr",
          "text": [
            "/usr/local/lib/python3.10/dist-packages/keras/src/engine/training.py:3103: UserWarning: You are saving your model as an HDF5 file via `model.save()`. This file format is considered legacy. We recommend using instead the native Keras format, e.g. `model.save('my_model.keras')`.\n",
            "  saving_api.save_model(\n"
          ]
        }
      ]
    },
    {
      "cell_type": "code",
      "source": [
        "plt.plot(history.history['accuracy'])\n",
        "plt.plot(history.history['val_accuracy'])\n",
        "plt.title('Training Accuracy vs Validation Accuracy')\n",
        "plt.ylabel('Accuracy')\n",
        "plt.xlabel('Epoch')\n",
        "plt.legend(['Train', 'Validation'], loc='upper left')\n",
        "plt.show()"
      ],
      "metadata": {
        "execution": {
          "iopub.status.busy": "2024-02-15T21:38:17.693814Z",
          "iopub.execute_input": "2024-02-15T21:38:17.6941Z",
          "iopub.status.idle": "2024-02-15T21:38:18.141769Z",
          "shell.execute_reply.started": "2024-02-15T21:38:17.694071Z",
          "shell.execute_reply": "2024-02-15T21:38:18.140771Z"
        },
        "trusted": true,
        "id": "TsH7GONQogvQ",
        "outputId": "018e27a0-4985-45d7-fe0f-a2aa127042b5",
        "colab": {
          "base_uri": "https://localhost:8080/",
          "height": 472
        }
      },
      "execution_count": 39,
      "outputs": [
        {
          "output_type": "display_data",
          "data": {
            "text/plain": [
              "<Figure size 640x480 with 1 Axes>"
            ],
            "image/png": "[encoded data removed]"
          },
          "metadata": {}
        }
      ]
    },
    {
      "cell_type": "code",
      "source": [
        "plt.plot(history.history['loss'])\n",
        "plt.plot(history.history['val_loss'])\n",
        "plt.title('Training Loss vs Validation Loss')\n",
        "plt.ylabel('Loss')\n",
        "plt.xlabel('Epoch')\n",
        "plt.legend(['Train', 'Validation'], loc='upper left')\n",
        "plt.show()"
      ],
      "metadata": {
        "execution": {
          "iopub.status.busy": "2024-02-15T21:38:18.143051Z",
          "iopub.execute_input": "2024-02-15T21:38:18.143335Z",
          "iopub.status.idle": "2024-02-15T21:38:18.307998Z",
          "shell.execute_reply.started": "2024-02-15T21:38:18.143306Z",
          "shell.execute_reply": "2024-02-15T21:38:18.307199Z"
        },
        "trusted": true,
        "id": "T4uPksZyogvQ",
        "outputId": "0be68689-bf6f-4632-cab5-045c675eb427",
        "colab": {
          "base_uri": "https://localhost:8080/",
          "height": 472
        }
      },
      "execution_count": 40,
      "outputs": [
        {
          "output_type": "display_data",
          "data": {
            "text/plain": [
              "<Figure size 640x480 with 1 Axes>"
            ],
            "image/png": "[encoded data removed]"
          },
          "metadata": {}
        }
      ]
    },
    {
      "cell_type": "markdown",
      "source": [
        "## Recognition and Post-Processing\n",
        "1. The sort contours function is used to get the correct order of individual characters for correct output extraction. In this case for extracting a single word, a left to right sorting of individual characters is needed.\n",
        "2. The get letters function fetches the list of letters and get word function gets the individual word."
      ],
      "metadata": {
        "id": "8cJYCO_EogvQ"
      }
    },
    {
      "cell_type": "code",
      "source": [
        "def sort_contours(cnts, method=\"left-to-right\"):\n",
        "    reverse = False\n",
        "    i = 0\n",
        "    if method == \"right-to-left\" or method == \"bottom-to-top\":\n",
        "        reverse = True\n",
        "    if method == \"top-to-bottom\" or method == \"bottom-to-top\":\n",
        "        i = 1\n",
        "    boundingBoxes = [cv2.boundingRect(c) for c in cnts]\n",
        "    (cnts, boundingBoxes) = zip(*sorted(zip(cnts, boundingBoxes),\n",
        "    key=lambda b:b[1][i], reverse=reverse))\n",
        "    # return the list of sorted contours and bounding boxes\n",
        "    return (cnts, boundingBoxes)"
      ],
      "metadata": {
        "execution": {
          "iopub.status.busy": "2024-02-15T21:38:18.309559Z",
          "iopub.execute_input": "2024-02-15T21:38:18.309871Z",
          "iopub.status.idle": "2024-02-15T21:38:18.317402Z",
          "shell.execute_reply.started": "2024-02-15T21:38:18.309842Z",
          "shell.execute_reply": "2024-02-15T21:38:18.31659Z"
        },
        "trusted": true,
        "id": "mZliuqfnogvQ"
      },
      "execution_count": 41,
      "outputs": []
    },
    {
      "cell_type": "code",
      "source": [
        "def get_letters(img):\n",
        "    letters = []\n",
        "    image = cv2.imread(img)\n",
        "    gray = cv2.cvtColor(image, cv2.COLOR_BGR2GRAY)\n",
        "    ret,thresh1 = cv2.threshold(gray ,127,255,cv2.THRESH_BINARY_INV)\n",
        "    dilated = cv2.dilate(thresh1, None, iterations=2)\n",
        "\n",
        "    cnts = cv2.findContours(dilated.copy(), cv2.RETR_EXTERNAL,cv2.CHAIN_APPROX_SIMPLE)\n",
        "    cnts = imutils.grab_contours(cnts)\n",
        "    cnts = sort_contours(cnts, method=\"left-to-right\")[0]\n",
        "    # loop over the contours\n",
        "    for c in cnts:\n",
        "        if cv2.contourArea(c) > 10:\n",
        "            (x, y, w, h) = cv2.boundingRect(c)\n",
        "            cv2.rectangle(image, (x, y), (x + w, y + h), (0, 255, 0), 2)\n",
        "        roi = gray[y:y + h, x:x + w]\n",
        "        thresh = cv2.threshold(roi, 0, 255,cv2.THRESH_BINARY_INV | cv2.THRESH_OTSU)[1]\n",
        "        thresh = cv2.resize(thresh, (32, 32), interpolation = cv2.INTER_CUBIC)\n",
        "        thresh = thresh.astype(\"float32\") / 255.0\n",
        "        thresh = np.expand_dims(thresh, axis=-1)\n",
        "        thresh = thresh.reshape(1,32,32,1)\n",
        "        ypred = model.predict(thresh)\n",
        "        ypred = LB.inverse_transform(ypred)\n",
        "        [x] = ypred\n",
        "        letters.append(x)\n",
        "    return letters, image\n",
        "\n",
        "#plt.imshow(image)"
      ],
      "metadata": {
        "execution": {
          "iopub.status.busy": "2024-02-15T21:38:18.318584Z",
          "iopub.execute_input": "2024-02-15T21:38:18.318923Z",
          "iopub.status.idle": "2024-02-15T21:38:18.335185Z",
          "shell.execute_reply.started": "2024-02-15T21:38:18.318894Z",
          "shell.execute_reply": "2024-02-15T21:38:18.334327Z"
        },
        "trusted": true,
        "id": "ngEt-E7bogvR"
      },
      "execution_count": 42,
      "outputs": []
    },
    {
      "cell_type": "code",
      "source": [
        "def get_word(letter):\n",
        "    word = \"\".join(letter)\n",
        "    return word"
      ],
      "metadata": {
        "execution": {
          "iopub.status.busy": "2024-02-15T21:38:18.336432Z",
          "iopub.execute_input": "2024-02-15T21:38:18.336857Z",
          "iopub.status.idle": "2024-02-15T21:38:18.348395Z",
          "shell.execute_reply.started": "2024-02-15T21:38:18.336827Z",
          "shell.execute_reply": "2024-02-15T21:38:18.347688Z"
        },
        "trusted": true,
        "id": "_DoqI0ZfogvR"
      },
      "execution_count": 43,
      "outputs": []
    },
    {
      "cell_type": "code",
      "source": [
        "letter,image = get_letters(\"../input/handwriting-recognition/train_v2/train/TRAIN_00003.jpg\")\n",
        "word = get_word(letter)\n",
        "print(word)\n",
        "plt.imshow(image)"
      ],
      "metadata": {
        "execution": {
          "iopub.status.busy": "2024-02-15T21:38:18.349784Z",
          "iopub.execute_input": "2024-02-15T21:38:18.350233Z",
          "iopub.status.idle": "2024-02-15T21:38:18.830986Z",
          "shell.execute_reply.started": "2024-02-15T21:38:18.350197Z",
          "shell.execute_reply": "2024-02-15T21:38:18.830161Z"
        },
        "trusted": true,
        "id": "UiPgD30bogvR",
        "outputId": "bd23d43a-4ae9-4d1c-9534-923a7129b422",
        "colab": {
          "base_uri": "https://localhost:8080/",
          "height": 260
        }
      },
      "execution_count": 44,
      "outputs": [
        {
          "output_type": "stream",
          "name": "stdout",
          "text": [
            "1/1 [==============================] - 0s 217ms/step\n",
            "1/1 [==============================] - 0s 22ms/step\n",
            "1/1 [==============================] - 0s 22ms/step\n",
            "1/1 [==============================] - 0s 23ms/step\n",
            "1/1 [==============================] - 0s 21ms/step\n",
            "BTNES\n"
          ]
        },
        {
          "output_type": "execute_result",
          "data": {
            "text/plain": [
              "<matplotlib.image.AxesImage at 0x7ef76b2f47f0>"
            ]
          },
          "metadata": {},
          "execution_count": 44
        },
        {
          "output_type": "display_data",
          "data": {
            "text/plain": [
              "<Figure size 640x480 with 1 Axes>"
            ],
            "image/png": "[encoded data removed]"
          },
          "metadata": {}
        }
      ]
    },
    {
      "cell_type": "code",
      "source": [
        "letter,image = get_letters(\"../input/handwriting-recognition/train_v2/train/TRAIN_00023.jpg\")\n",
        "word = get_word(letter)\n",
        "print(word)\n",
        "plt.imshow(image)"
      ],
      "metadata": {
        "execution": {
          "iopub.status.busy": "2024-02-15T21:38:18.832317Z",
          "iopub.execute_input": "2024-02-15T21:38:18.832609Z",
          "iopub.status.idle": "2024-02-15T21:38:19.167989Z",
          "shell.execute_reply.started": "2024-02-15T21:38:18.832579Z",
          "shell.execute_reply": "2024-02-15T21:38:19.167121Z"
        },
        "trusted": true,
        "id": "LqV_1P0AogvS",
        "outputId": "d78978fe-e5c2-4d8c-cc1e-218f66e28427",
        "colab": {
          "base_uri": "https://localhost:8080/",
          "height": 247
        }
      },
      "execution_count": 45,
      "outputs": [
        {
          "output_type": "stream",
          "name": "stdout",
          "text": [
            "1/1 [==============================] - 0s 27ms/step\n",
            "1/1 [==============================] - 0s 23ms/step\n",
            "1/1 [==============================] - 0s 25ms/step\n",
            "1/1 [==============================] - 0s 32ms/step\n",
            "1/1 [==============================] - 0s 22ms/step\n",
            "LIL0U\n"
          ]
        },
        {
          "output_type": "execute_result",
          "data": {
            "text/plain": [
              "<matplotlib.image.AxesImage at 0x7ef76aacb1c0>"
            ]
          },
          "metadata": {},
          "execution_count": 45
        },
        {
          "output_type": "display_data",
          "data": {
            "text/plain": [
              "<Figure size 640x480 with 1 Axes>"
            ],
            "image/png": "[encoded data removed]"
          },
          "metadata": {}
        }
      ]
    },
    {
      "cell_type": "code",
      "source": [
        "letter,image = get_letters(\"../input/handwriting-recognition/train_v2/train/TRAIN_00030.jpg\")\n",
        "word = get_word(letter)\n",
        "print(word)\n",
        "plt.imshow(image)"
      ],
      "metadata": {
        "execution": {
          "iopub.status.busy": "2024-02-15T21:38:19.169735Z",
          "iopub.execute_input": "2024-02-15T21:38:19.169999Z",
          "iopub.status.idle": "2024-02-15T21:38:19.559086Z",
          "shell.execute_reply.started": "2024-02-15T21:38:19.169973Z",
          "shell.execute_reply": "2024-02-15T21:38:19.558159Z"
        },
        "trusted": true,
        "id": "3fTrsXr1ogvS",
        "outputId": "482b72f3-fc8a-4251-80a1-cffefcc44ef7",
        "colab": {
          "base_uri": "https://localhost:8080/",
          "height": 283
        }
      },
      "execution_count": 46,
      "outputs": [
        {
          "output_type": "stream",
          "name": "stdout",
          "text": [
            "1/1 [==============================] - 0s 26ms/step\n",
            "1/1 [==============================] - 0s 23ms/step\n",
            "1/1 [==============================] - 0s 25ms/step\n",
            "1/1 [==============================] - 0s 22ms/step\n",
            "1/1 [==============================] - 0s 23ms/step\n",
            "1/1 [==============================] - 0s 23ms/step\n",
            "1/1 [==============================] - 0s 24ms/step\n",
            "7AFFF1X\n"
          ]
        },
        {
          "output_type": "execute_result",
          "data": {
            "text/plain": [
              "<matplotlib.image.AxesImage at 0x7ef76ab45a20>"
            ]
          },
          "metadata": {},
          "execution_count": 46
        },
        {
          "output_type": "display_data",
          "data": {
            "text/plain": [
              "<Figure size 640x480 with 1 Axes>"
            ],
            "image/png": "[encoded data removed]"
          },
          "metadata": {}
        }
      ]
    },
    {
      "cell_type": "code",
      "source": [
        "letter,image = get_letters(\"../input/handwriting-recognition/validation_v2/validation/VALIDATION_0005.jpg\")\n",
        "word = get_word(letter)\n",
        "print(word)\n",
        "plt.imshow(image)"
      ],
      "metadata": {
        "execution": {
          "iopub.status.busy": "2024-02-15T21:38:19.560259Z",
          "iopub.execute_input": "2024-02-15T21:38:19.560547Z",
          "iopub.status.idle": "2024-02-15T21:38:19.854645Z",
          "shell.execute_reply.started": "2024-02-15T21:38:19.560518Z",
          "shell.execute_reply": "2024-02-15T21:38:19.853954Z"
        },
        "trusted": true,
        "id": "liklK1oOogvS",
        "outputId": "c49cf0dc-638d-4bf2-a1ee-0dc365b90604",
        "colab": {
          "base_uri": "https://localhost:8080/",
          "height": 229
        }
      },
      "execution_count": 47,
      "outputs": [
        {
          "output_type": "stream",
          "name": "stdout",
          "text": [
            "1/1 [==============================] - 0s 25ms/step\n",
            "1/1 [==============================] - 0s 24ms/step\n",
            "1/1 [==============================] - 0s 24ms/step\n",
            "1/1 [==============================] - 0s 25ms/step\n",
            "KUPP\n"
          ]
        },
        {
          "output_type": "execute_result",
          "data": {
            "text/plain": [
              "<matplotlib.image.AxesImage at 0x7ef769d6db70>"
            ]
          },
          "metadata": {},
          "execution_count": 47
        },
        {
          "output_type": "display_data",
          "data": {
            "text/plain": [
              "<Figure size 640x480 with 1 Axes>"
            ],
            "image/png": "[encoded data removed]"
          },
          "metadata": {}
        }
      ]
    },
    {
      "cell_type": "code",
      "source": [
        "letter,image = get_letters(\"../input/handwriting-recognition/test_v2/test/TEST_0007.jpg\")\n",
        "word = get_word(letter)\n",
        "print(word)\n",
        "plt.imshow(image)"
      ],
      "metadata": {
        "execution": {
          "iopub.status.busy": "2024-02-15T21:38:19.856404Z",
          "iopub.execute_input": "2024-02-15T21:38:19.85682Z",
          "iopub.status.idle": "2024-02-15T21:38:20.353794Z",
          "shell.execute_reply.started": "2024-02-15T21:38:19.856777Z",
          "shell.execute_reply": "2024-02-15T21:38:20.352745Z"
        },
        "trusted": true,
        "id": "7v7tx-rXogvS",
        "outputId": "8081cf15-a6bd-4905-c4c2-eb591262e899",
        "colab": {
          "base_uri": "https://localhost:8080/",
          "height": 333
        }
      },
      "execution_count": 48,
      "outputs": [
        {
          "output_type": "stream",
          "name": "stdout",
          "text": [
            "1/1 [==============================] - 0s 33ms/step\n",
            "1/1 [==============================] - 0s 38ms/step\n",
            "1/1 [==============================] - 0s 32ms/step\n",
            "1/1 [==============================] - 0s 64ms/step\n",
            "1/1 [==============================] - 0s 39ms/step\n",
            "1/1 [==============================] - 0s 34ms/step\n",
            "1/1 [==============================] - 0s 35ms/step\n",
            "1/1 [==============================] - 0s 40ms/step\n",
            "1/1 [==============================] - 0s 34ms/step\n",
            "VALENTINE\n"
          ]
        },
        {
          "output_type": "execute_result",
          "data": {
            "text/plain": [
              "<matplotlib.image.AxesImage at 0x7ef769de2e90>"
            ]
          },
          "metadata": {},
          "execution_count": 48
        },
        {
          "output_type": "display_data",
          "data": {
            "text/plain": [
              "<Figure size 640x480 with 1 Axes>"
            ],
            "image/png": "[encoded data removed]"
          },
          "metadata": {}
        }
      ]
    }
  ]
}